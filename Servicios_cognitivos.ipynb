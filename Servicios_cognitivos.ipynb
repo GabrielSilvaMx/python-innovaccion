{
  "nbformat": 4,
  "nbformat_minor": 0,
  "metadata": {
    "colab": {
      "name": "Servicios cognitivos.ipynb",
      "provenance": [],
      "authorship_tag": "ABX9TyNlMOwLeMPjX2puFZaSQWCO",
      "include_colab_link": true
    },
    "kernelspec": {
      "name": "python3",
      "display_name": "Python 3"
    }
  },
  "cells": [
    {
      "cell_type": "markdown",
      "metadata": {
        "id": "view-in-github",
        "colab_type": "text"
      },
      "source": [
        "<a href=\"https://colab.research.google.com/github/GabrielSilvaMx/python-innovaccion/blob/main/Servicios_cognitivos.ipynb\" target=\"_parent\"><img src=\"https://colab.research.google.com/assets/colab-badge.svg\" alt=\"Open In Colab\"/></a>"
      ]
    },
    {
      "cell_type": "code",
      "metadata": {
        "id": "9y5gtXnNOPHZ",
        "outputId": "810f8821-f70a-4e72-bb4b-2a2a08dcf1bb",
        "colab": {
          "base_uri": "https://localhost:8080/",
          "height": 404
        }
      },
      "source": [
        "!pip install --upgrade azure-cognitiveservices-vision-computervision"
      ],
      "execution_count": 1,
      "outputs": [
        {
          "output_type": "stream",
          "text": [
            "Collecting azure-cognitiveservices-vision-computervision\n",
            "  Downloading https://files.pythonhosted.org/packages/f2/de/03ddaffabd541829394fb6ee4615f642ed1a14438b4543a01ad58f7d222e/azure_cognitiveservices_vision_computervision-0.7.0-py2.py3-none-any.whl\n",
            "Collecting azure-common~=1.1\n",
            "  Downloading https://files.pythonhosted.org/packages/e5/4d/d000fc3c5af601d00d55750b71da5c231fcb128f42ac95b208ed1091c2c1/azure_common-1.1.25-py2.py3-none-any.whl\n",
            "Collecting msrest>=0.5.0\n",
            "\u001b[?25l  Downloading https://files.pythonhosted.org/packages/fa/f5/9e315fe8cb985b0ce052b34bcb767883dc739f46fadb62f05a7e6d6eedbe/msrest-0.6.19-py2.py3-none-any.whl (84kB)\n",
            "\u001b[K     |████████████████████████████████| 92kB 2.2MB/s \n",
            "\u001b[?25hCollecting isodate>=0.6.0\n",
            "\u001b[?25l  Downloading https://files.pythonhosted.org/packages/9b/9f/b36f7774ff5ea8e428fdcfc4bb332c39ee5b9362ddd3d40d9516a55221b2/isodate-0.6.0-py2.py3-none-any.whl (45kB)\n",
            "\u001b[K     |████████████████████████████████| 51kB 4.3MB/s \n",
            "\u001b[?25hRequirement already satisfied, skipping upgrade: requests~=2.16 in /usr/local/lib/python3.6/dist-packages (from msrest>=0.5.0->azure-cognitiveservices-vision-computervision) (2.23.0)\n",
            "Requirement already satisfied, skipping upgrade: requests-oauthlib>=0.5.0 in /usr/local/lib/python3.6/dist-packages (from msrest>=0.5.0->azure-cognitiveservices-vision-computervision) (1.3.0)\n",
            "Requirement already satisfied, skipping upgrade: certifi>=2017.4.17 in /usr/local/lib/python3.6/dist-packages (from msrest>=0.5.0->azure-cognitiveservices-vision-computervision) (2020.6.20)\n",
            "Requirement already satisfied, skipping upgrade: six in /usr/local/lib/python3.6/dist-packages (from isodate>=0.6.0->msrest>=0.5.0->azure-cognitiveservices-vision-computervision) (1.15.0)\n",
            "Requirement already satisfied, skipping upgrade: idna<3,>=2.5 in /usr/local/lib/python3.6/dist-packages (from requests~=2.16->msrest>=0.5.0->azure-cognitiveservices-vision-computervision) (2.10)\n",
            "Requirement already satisfied, skipping upgrade: chardet<4,>=3.0.2 in /usr/local/lib/python3.6/dist-packages (from requests~=2.16->msrest>=0.5.0->azure-cognitiveservices-vision-computervision) (3.0.4)\n",
            "Requirement already satisfied, skipping upgrade: urllib3!=1.25.0,!=1.25.1,<1.26,>=1.21.1 in /usr/local/lib/python3.6/dist-packages (from requests~=2.16->msrest>=0.5.0->azure-cognitiveservices-vision-computervision) (1.24.3)\n",
            "Requirement already satisfied, skipping upgrade: oauthlib>=3.0.0 in /usr/local/lib/python3.6/dist-packages (from requests-oauthlib>=0.5.0->msrest>=0.5.0->azure-cognitiveservices-vision-computervision) (3.1.0)\n",
            "Installing collected packages: azure-common, isodate, msrest, azure-cognitiveservices-vision-computervision\n",
            "Successfully installed azure-cognitiveservices-vision-computervision-0.7.0 azure-common-1.1.25 isodate-0.6.0 msrest-0.6.19\n"
          ],
          "name": "stdout"
        }
      ]
    },
    {
      "cell_type": "markdown",
      "metadata": {
        "id": "TbtiWszpTBIg"
      },
      "source": [
        "Importar las bibliotecas que vamos a usar "
      ]
    },
    {
      "cell_type": "code",
      "metadata": {
        "id": "_Fg-83a6TAVy"
      },
      "source": [
        "# conectar al recurso \n",
        "from azure.cognitiveservices.vision.computervision import ComputerVisionClient\n",
        "#codigo de estado (request)\n",
        "from azure.cognitiveservices.vision.computervision.models import OperationStatusCodes\n",
        "#tipos de caracteristicas \n",
        "from azure.cognitiveservices.vision.computervision.models import VisualFeatureTypes\n",
        "# la autenticacion del usuario\n",
        "from msrest.authentication import CognitiveServicesCredentials\n",
        "\n",
        "from array import array\n",
        "#importar funcionalidades del SO (linux)\n",
        "import os\n",
        "#trabajar con recursos de imagenes\n",
        "from PIL import Image\n",
        "#sistema, funciones del sistema\n",
        "import sys\n",
        "#funciones del tiempo\n",
        "import time"
      ],
      "execution_count": null,
      "outputs": []
    },
    {
      "cell_type": "code",
      "metadata": {
        "id": "sfORKhLEUBuU"
      },
      "source": [
        "endpoint = 'https://testcomputervisionmx.cognitiveservices.azure.com/'\n",
        "subscription_key = 'ba5c64bd50b7478181096b0308fd0b66'\n",
        "computervision_client = ComputerVisionClient(endpoint, CognitiveServicesCredentials(subscription_key))"
      ],
      "execution_count": null,
      "outputs": []
    },
    {
      "cell_type": "code",
      "metadata": {
        "id": "n5WPGdLiU3M1"
      },
      "source": [
        "remote_image_url = \"https://viajes.nationalgeographic.com.es/medio/2019/08/15/2017_5974d893_1200x882.jpg\""
      ],
      "execution_count": null,
      "outputs": []
    },
    {
      "cell_type": "code",
      "metadata": {
        "id": "t0jG58kXUQGQ"
      },
      "source": [
        "'''\n",
        "Describe an Image - remote\n",
        "This example describes the contents of an image with the confidence score.\n",
        "'''\n",
        "print(\"===== Describe an image - remote =====\")\n",
        "# Call API\n",
        "description_results = computervision_client.describe_image(remote_image_url )\n"
      ],
      "execution_count": null,
      "outputs": []
    },
    {
      "cell_type": "code",
      "metadata": {
        "id": "t44lCEpPWPAs"
      },
      "source": [
        "# Get the captions (descriptions) from the response, with confidence level\n",
        "print(\"Description of remote image: \")\n",
        "if (len(description_results.captions) == 0):\n",
        "    print(\"No description detected.\")\n",
        "else:\n",
        "    for caption in description_results.captions:\n",
        "        print(\"'{}' with confidence {:.2f}%\".format(caption.text, caption.confidence * 100))"
      ],
      "execution_count": null,
      "outputs": []
    }
  ]
}